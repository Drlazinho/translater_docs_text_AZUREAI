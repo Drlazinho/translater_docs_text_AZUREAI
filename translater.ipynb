{
 "cells": [
  {
   "cell_type": "code",
   "execution_count": 2,
   "metadata": {},
   "outputs": [],
   "source": [
    "import requests\n",
    "from docx import Document\n",
    "import os"
   ]
  },
  {
   "cell_type": "code",
   "execution_count": 3,
   "metadata": {},
   "outputs": [],
   "source": [
    "import requests\n",
    "from docx import Document\n",
    "import os\n",
    "\n",
    "subscription_key = \"CHAVE_TRANSLATER_MICRO\"\n",
    "endpoint = 'https://api.cognitive.microsofttranslator.com'\n",
    "location =  'eastus2'\n",
    "target_language = 'pt-br'\n",
    "\n",
    "def translator_text(text, target_languge):\n",
    "    path = '/translate'\n",
    "    constructed_url = endpoint + path\n",
    "    headers = {\n",
    "        'Ocp-Apim-Subscription-Key': subscription_key,\n",
    "        'Ocp-Apim-Subscription-Region': location,\n",
    "        'Content-type': 'application/json',\n",
    "        'X-ClientTracedId': str(os.urandom(16))\n",
    "    }\n",
    "\n",
    "    body = [{\n",
    "        'text': text\n",
    "    }]\n",
    "    \n",
    "    params = {\n",
    "        'api-version': '3.0',\n",
    "        'from': 'en',\n",
    "        'to': target_language\n",
    "    }\n",
    "\n",
    "    request = requests.post(constructed_url, params=params, headers=headers, json=body)\n",
    "    response = request.json()\n",
    "    return response[0][\"translations\"][0][\"text\"]"
   ]
  },
  {
   "cell_type": "code",
   "execution_count": 4,
   "metadata": {},
   "outputs": [
    {
     "data": {
      "text/plain": [
       "'Procuras o caminho para'"
      ]
     },
     "execution_count": 4,
     "metadata": {},
     "output_type": "execute_result"
    }
   ],
   "source": [
    "translator_text(\"Seekest thou the road to\", target_language)"
   ]
  },
  {
   "cell_type": "code",
   "execution_count": 7,
   "metadata": {},
   "outputs": [
    {
     "name": "stdout",
     "output_type": "stream",
     "text": [
      "Procuras o caminho para\n",
      "Tudo o que é sujo e justo\n",
      "Reúna irmãs, fogo\n",
      "Água, terra e ar\n",
      "Hora mais escura, desperte seu poder\n",
      "Terreno e divino\n",
      "Queime e prepare com coven true\n",
      "E a glória será tua\n",
      "Para baixo, para baixo, para baixo na estrada\n",
      "Descendo a Estrada das Bruxas\n",
      "Para baixo, para baixo, para baixo na estrada\n",
      "Descendo a Estrada das Bruxas\n",
      "Para baixo, para baixo, para baixo na estrada\n",
      "Descendo a Estrada das Bruxas\n",
      "Círculo costurado com o destino\n",
      "Destranque seu portão escondido\n",
      "Marchando sempre para a frente\n",
      "'Sob o santuário arborizado\n",
      "Eu não me desvio do caminho\n",
      "Eu seguro a mão da Morte na minha\n",
      "Noite primitiva, dá visão\n",
      "Familiar ao teu lado\n",
      "Se um se for, nós continuamos\n",
      "Espírito como nosso guia\n",
      "Para baixo, para baixo, para baixo na estrada\n",
      "Descendo a Estrada das Bruxas (descendo a Estrada das Bruxas)\n",
      "Para baixo, para baixo, para baixo da estrada (para baixo da Estrada das Bruxas)\n",
      "Descendo a Estrada das Bruxas (descendo a Estrada das Bruxas)\n",
      "Para baixo, para baixo, para baixo da estrada (para baixo da Estrada das Bruxas)\n",
      "Descendo a Estrada das Bruxas (descendo a Estrada das Bruxas)\n",
      "Sangue e lágrimas e ossos\n",
      "Donzela, Mãe, Anciã\n",
      "A estrada é selvagem e perversa\n",
      "Serpenteando pela floresta\n",
      "Onde tudo o que está errado é certo\n",
      "E tudo o que é ruim é bom\n",
      "Através de muitos quilômetros de truques e provações\n",
      "Vamos vagar alto e baixo\n",
      "Dome seus medos, uma porta aparece\n",
      "Chegou a hora de ir\n",
      "Para baixo, para baixo, para baixo na estrada (para baixo, para baixo, para baixo, para baixo)\n",
      "Descendo a Estrada das Bruxas (descendo a Estrada das Bruxas)\n",
      "Para baixo, para baixo, para baixo da estrada (para baixo da Estrada das Bruxas)\n",
      "Descendo a Estrada das Bruxas (descendo a Estrada das Bruxas)\n",
      "Para baixo, para baixo, para baixo da estrada (para baixo da Estrada das Bruxas)\n",
      "Descendo a Estrada das Bruxas (descendo a Estrada das Bruxas)\n",
      "Siga-me, meu amigo\n",
      "Para a glória no final\n",
      "\n"
     ]
    },
    {
     "data": {
      "text/plain": [
       "'musica_pt-br.docx'"
      ]
     },
     "execution_count": 7,
     "metadata": {},
     "output_type": "execute_result"
    }
   ],
   "source": [
    "def translator_document(path):\n",
    "    document = Document(path)\n",
    "    full_text = []\n",
    "    for paragraph in document.paragraphs:\n",
    "        translated_text = translator_text(paragraph.text, target_language)\n",
    "        full_text.append(translated_text)\n",
    "\n",
    "    translated_doc = Document()\n",
    "    for line in full_text:\n",
    "      print(line)\n",
    "      translated_doc.add_paragraph(line)\n",
    "\n",
    "    path_translated = path.replace(\".docx\", f\"_{target_language}.docx\")\n",
    "    translated_doc.save(path_translated)\n",
    "    return path_translated\n",
    "\n",
    "input_file = \"musica.docx\"\n",
    "translator_document(input_file)"
   ]
  }
 ],
 "metadata": {
  "kernelspec": {
   "display_name": "Python 3",
   "language": "python",
   "name": "python3"
  },
  "language_info": {
   "codemirror_mode": {
    "name": "ipython",
    "version": 3
   },
   "file_extension": ".py",
   "mimetype": "text/x-python",
   "name": "python",
   "nbconvert_exporter": "python",
   "pygments_lexer": "ipython3",
   "version": "3.12.2"
  }
 },
 "nbformat": 4,
 "nbformat_minor": 2
}
